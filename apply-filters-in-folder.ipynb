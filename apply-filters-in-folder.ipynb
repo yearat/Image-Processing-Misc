{
 "cells": [
  {
   "attachments": {},
   "cell_type": "markdown",
   "metadata": {},
   "source": [
    "Resize all images in a folder"
   ]
  },
  {
   "cell_type": "code",
   "execution_count": null,
   "metadata": {},
   "outputs": [],
   "source": [
    "import os\n",
    "from PIL import Image\n",
    " \n",
    "print(\"Shrink images in the folder\")\n",
    "folder = 'W330'\n",
    "w = 1000\n",
    "h = 1000\n",
    "for i in os.listdir(folder):\n",
    "    file = f\"{folder}\\\\{i}\"\n",
    "    im = Image.open(file)\n",
    "    im = im.resize((w, h), Image.ANTIALIAS)\n",
    "    im.save(file)"
   ]
  },
  {
   "attachments": {},
   "cell_type": "markdown",
   "metadata": {},
   "source": [
    "Apply Gaussian Noise"
   ]
  },
  {
   "cell_type": "code",
   "execution_count": null,
   "metadata": {},
   "outputs": [],
   "source": [
    "import cv2\n",
    "import numpy as np\n",
    " \n",
    "img = cv2.imread('D:/downloads/opencv_logo.PNG')\n",
    "# Generate Gaussian noise\n",
    "gauss = np.random.normal(0,1,img.size)\n",
    "gauss = gauss.reshape(img.shape[0],img.shape[1],img.shape[2]).astype('uint8')\n",
    "# Add the Gaussian noise to the image\n",
    "img_gauss = cv2.add(img,gauss)\n",
    "# Display the image\n",
    "cv2.imshow('a',img_gauss)\n",
    "cv2.waitKey(0)"
   ]
  },
  {
   "attachments": {},
   "cell_type": "markdown",
   "metadata": {},
   "source": [
    "Apply Motion Blur"
   ]
  },
  {
   "cell_type": "code",
   "execution_count": null,
   "metadata": {},
   "outputs": [],
   "source": [
    "# loading library\n",
    "import cv2\n",
    "import numpy as np\n",
    "  \n",
    "img = cv2.imread('car.jpg')\n",
    "  \n",
    "# Specify the kernel size.\n",
    "# The greater the size, the more the motion.\n",
    "kernel_size = 30\n",
    "  \n",
    "# Create the vertical kernel.\n",
    "kernel_v = np.zeros((kernel_size, kernel_size))\n",
    "  \n",
    "# Create a copy of the same for creating the horizontal kernel.\n",
    "kernel_h = np.copy(kernel_v)\n",
    "  \n",
    "# Fill the middle row with ones.\n",
    "kernel_v[:, int((kernel_size - 1)/2)] = np.ones(kernel_size)\n",
    "kernel_h[int((kernel_size - 1)/2), :] = np.ones(kernel_size)\n",
    "  \n",
    "# Normalize.\n",
    "kernel_v /= kernel_size\n",
    "kernel_h /= kernel_size\n",
    "  \n",
    "# Apply the vertical kernel.\n",
    "vertical_mb = cv2.filter2D(img, -1, kernel_v)\n",
    "  \n",
    "# Apply the horizontal kernel.\n",
    "horizonal_mb = cv2.filter2D(img, -1, kernel_h)\n",
    "  \n",
    "# Save the outputs.\n",
    "cv2.imwrite('car_vertical.jpg', vertical_mb)\n",
    "cv2.imwrite('car_horizontal.jpg', horizonal_mb)"
   ]
  },
  {
   "attachments": {},
   "cell_type": "markdown",
   "metadata": {},
   "source": [
    "Apply Gaussian Blurring, Median Blurring, Bilateral Filtering"
   ]
  },
  {
   "cell_type": "code",
   "execution_count": null,
   "metadata": {},
   "outputs": [],
   "source": [
    "# importing opencv CV2 module\n",
    "import cv2 \n",
    "  \n",
    "# bat.jpg is the batman image.\n",
    "img = cv2.imread('gfg.png')\n",
    "   \n",
    "# make sure that you have saved it in the same folder\n",
    "# Averaging\n",
    "# You can change the kernel size as you want\n",
    "avging = cv2.blur(img,(10,10))\n",
    "   \n",
    "cv2.imshow('Averaging',avging)\n",
    "cv2.waitKey(0)\n",
    "  \n",
    "# Gaussian Blurring\n",
    "# Again, you can change the kernel size\n",
    "gausBlur = cv2.GaussianBlur(img, (5,5),0) \n",
    "cv2.imshow('Gaussian Blurring', gausBlur)\n",
    "cv2.waitKey(0)\n",
    "  \n",
    "# Median blurring\n",
    "medBlur = cv2.medianBlur(img,5)\n",
    "cv2.imshow('Media Blurring', medBlur)\n",
    "cv2.waitKey(0)\n",
    "  \n",
    "# Bilateral Filtering\n",
    "bilFilter = cv2.bilateralFilter(img,9,75,75)\n",
    "cv2.imshow('Bilateral Filtering', bilFilter)\n",
    "cv2.waitKey(0)\n",
    "cv2.destroyAllWindows()"
   ]
  },
  {
   "attachments": {},
   "cell_type": "markdown",
   "metadata": {},
   "source": [
    "Apply Gaussian Noise on all images in a folder"
   ]
  },
  {
   "cell_type": "code",
   "execution_count": 10,
   "metadata": {},
   "outputs": [
    {
     "name": "stdout",
     "output_type": "stream",
     "text": [
      "Applying Gaussian noise on images in the folder\n"
     ]
    },
    {
     "name": "stderr",
     "output_type": "stream",
     "text": [
      "100%|██████████| 2560/2560 [00:47<00:00, 54.27it/s]\n"
     ]
    }
   ],
   "source": [
    "import os\n",
    "import cv2\n",
    "import numpy as np\n",
    "from tqdm import tqdm\n",
    " \n",
    "print(\"Applying Gaussian noise on images in the folder\")\n",
    "source = 'dataset/train/clean'\n",
    "destination = 'dataset/train/noise'\n",
    "\n",
    "for i in tqdm(os.listdir(source)):\n",
    "    file_name = f\"{source}\\\\{i}\"\n",
    "\n",
    "    img = cv2.imread(file_name)\n",
    "    \n",
    "    # Generate Gaussian noise\n",
    "    gauss = np.random.normal(0,1,img.size)\n",
    "    gauss = gauss.reshape(img.shape[0],img.shape[1],img.shape[2]).astype('uint8')\n",
    "\n",
    "    # Add the Gaussian noise to the image\n",
    "    img_gauss = cv2.add(img,gauss)\n",
    "\n",
    "    # Save Image\n",
    "    save_name = str(i)\n",
    "    save_name = save_name[:-4] + '_noisy' + '.jpg'\n",
    "    save_name = os.path.join(destination, save_name)\n",
    "    cv2.imwrite(save_name, img_gauss)"
   ]
  },
  {
   "attachments": {},
   "cell_type": "markdown",
   "metadata": {},
   "source": [
    "Apply Motion Blur on all images in a folder"
   ]
  },
  {
   "cell_type": "code",
   "execution_count": 2,
   "metadata": {},
   "outputs": [
    {
     "name": "stdout",
     "output_type": "stream",
     "text": [
      "Applying Motion Blur on images in the folder\n"
     ]
    },
    {
     "name": "stderr",
     "output_type": "stream",
     "text": [
      "100%|██████████| 2560/2560 [00:35<00:00, 72.84it/s]\n"
     ]
    }
   ],
   "source": [
    "import os\n",
    "import cv2\n",
    "import numpy as np\n",
    "from tqdm import tqdm\n",
    " \n",
    "print(\"Applying Motion Blur on images in the folder\")\n",
    "source = 'dataset/train/clean'\n",
    "destination = 'dataset/train/motion_blur'\n",
    "\n",
    "for i in tqdm(os.listdir(source)):\n",
    "    file_name = f\"{source}\\\\{i}\"\n",
    "\n",
    "    img = cv2.imread(file_name)\n",
    "    \n",
    "    # The greater the size, the more the motion.\n",
    "    kernel_size = 30\n",
    "    \n",
    "    # Create the vertical kernel.\n",
    "    kernel_v = np.zeros((kernel_size, kernel_size))\n",
    "\n",
    "    # Fill the middle row with ones.\n",
    "    kernel_v[:, int((kernel_size - 1)/2)] = np.ones(kernel_size)\n",
    "\n",
    "    # Normalize.\n",
    "    kernel_v /= kernel_size\n",
    "\n",
    "    # Apply the vertical kernel.\n",
    "    vertical_mb = cv2.filter2D(img, -1, kernel_v)\n",
    "\n",
    "    # Save Image\n",
    "    save_name = str(i)\n",
    "    save_name = save_name[:-4] + '_vertical_mb' + '.jpg'\n",
    "    save_name = os.path.join(destination, save_name)\n",
    "    cv2.imwrite(save_name, vertical_mb)"
   ]
  },
  {
   "attachments": {},
   "cell_type": "markdown",
   "metadata": {},
   "source": [
    "Apply Gaussian Blur on all images in a folder"
   ]
  },
  {
   "cell_type": "code",
   "execution_count": 7,
   "metadata": {},
   "outputs": [
    {
     "name": "stdout",
     "output_type": "stream",
     "text": [
      "Applying Gaussian Blur on images in the folder\n"
     ]
    },
    {
     "name": "stderr",
     "output_type": "stream",
     "text": [
      "100%|██████████| 2560/2560 [00:16<00:00, 158.76it/s]\n"
     ]
    }
   ],
   "source": [
    "import os\n",
    "import cv2\n",
    "import numpy as np\n",
    "from tqdm import tqdm\n",
    " \n",
    "print(\"Applying Gaussian Blur on images in the folder\")\n",
    "source = 'dataset/train/clean'\n",
    "destination = 'dataset/train/blur'\n",
    "\n",
    "for i in tqdm(os.listdir(source)):\n",
    "    file_name = f\"{source}\\\\{i}\"\n",
    "\n",
    "    img = cv2.imread(file_name)\n",
    "    \n",
    "    # Gaussian Blurring\n",
    "    # Again, you can change the kernel size\n",
    "    gausBlur = cv2.GaussianBlur(img, (15,15),0) \n",
    "\n",
    "    # Save Image\n",
    "    save_name = str(i)\n",
    "    save_name = save_name[:-4] + '_blur' + '.jpg'\n",
    "    save_name = os.path.join(destination, save_name)\n",
    "    cv2.imwrite(save_name, gausBlur)"
   ]
  }
 ],
 "metadata": {
  "kernelspec": {
   "display_name": "pytorch",
   "language": "python",
   "name": "python3"
  },
  "language_info": {
   "codemirror_mode": {
    "name": "ipython",
    "version": 3
   },
   "file_extension": ".py",
   "mimetype": "text/x-python",
   "name": "python",
   "nbconvert_exporter": "python",
   "pygments_lexer": "ipython3",
   "version": "3.9.15"
  },
  "orig_nbformat": 4
 },
 "nbformat": 4,
 "nbformat_minor": 2
}
