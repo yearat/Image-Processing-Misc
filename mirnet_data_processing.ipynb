{
 "cells": [
  {
   "attachments": {},
   "cell_type": "markdown",
   "metadata": {},
   "source": [
    "Cropped Patch Generation and Augmentation without Patchify"
   ]
  },
  {
   "cell_type": "code",
   "execution_count": 2,
   "metadata": {},
   "outputs": [
    {
     "name": "stderr",
     "output_type": "stream",
     "text": [
      "100%|██████████| 10/10 [00:09<00:00,  1.00it/s]\n"
     ]
    }
   ],
   "source": [
    "import cv2\n",
    "import os\n",
    "import numpy as np\n",
    "from tqdm import tqdm\n",
    "from matplotlib import pyplot as plt\n",
    "\n",
    "def generate_crops(image):\n",
    "    cropped_images = []\n",
    "\n",
    "    height_upto = int(image.shape[0] / 2)\n",
    "    width_upto = int(image.shape[1] / 2)\n",
    "\n",
    "    # 1st crop - upper left\n",
    "    cropped_upper_left = image[0:height_upto, 0:width_upto]\n",
    "    cropped_images.append(cropped_upper_left)\n",
    "\n",
    "    # 2nd crop - upper right\n",
    "    cropped_upper_right = image[0:height_upto, width_upto:image.shape[1]]\n",
    "    cropped_images.append(cropped_upper_right)\n",
    "    # 3rd crop - lower left\n",
    "\n",
    "    cropped_lower_left = image[height_upto:image.shape[0], 0:width_upto]\n",
    "    cropped_images.append(cropped_lower_left)\n",
    "\n",
    "    # 4th crop - lower right\n",
    "    cropped_lower_right = image[height_upto:image.shape[0], width_upto:image.shape[1]]\n",
    "    cropped_images.append(cropped_lower_right)\n",
    "\n",
    "    return cropped_images\n",
    "\n",
    "\n",
    "def generate_augmentations(image):\n",
    "    augmented_images = []\n",
    "\n",
    "    # Rotate Right\n",
    "    rotate_right = cv2.rotate(image, cv2.ROTATE_90_CLOCKWISE)\n",
    "    augmented_images.append(rotate_right)\n",
    "\n",
    "    # Rotate Left\n",
    "    rotate_left = cv2.rotate(image, cv2.ROTATE_90_COUNTERCLOCKWISE)\n",
    "    augmented_images.append(rotate_left)\n",
    "\n",
    "    # Flip Vertical\n",
    "    flip_vertical = cv2.flip(image, 0)\n",
    "    augmented_images.append(flip_vertical)\n",
    "\n",
    "    # Flip Horizontal\n",
    "    flip_horizontal = cv2.flip(image, 1)\n",
    "    augmented_images.append(flip_horizontal)\n",
    "\n",
    "    return augmented_images\n",
    "\n",
    "\n",
    "source = 'original'\n",
    "destination = 'original_cropped'\n",
    "image_count = 0\n",
    "\n",
    "for file in tqdm(os.listdir(source)):\n",
    "    if(file.endswith(\".jpg\")):\n",
    "        # Read the main image\n",
    "        image = cv2.imread(f\"{source}/{file}\")\n",
    "        image = cv2.cvtColor(image, cv2.COLOR_BGR2RGB)\n",
    "\n",
    "        # Generate crops from main image\n",
    "        cropped_images = generate_crops(image)\n",
    "\n",
    "        # Send each crop for augmentation\n",
    "        for i in range(len(cropped_images)):\n",
    "            # Generate augmentations for eacg crop\n",
    "            augmented_images = generate_augmentations(cropped_images[i])\n",
    "            augmented_images.append(cropped_images[i])\n",
    "            # Save each image\n",
    "            for j in range(len(augmented_images)):\n",
    "                filename = f\"{image_count}.jpg\"\n",
    "                image_to_save = cv2.cvtColor(augmented_images[j], cv2.COLOR_BGR2RGB)\n",
    "                cv2.imwrite(f\"{destination}/{filename}\", image_to_save)\n",
    "                image_count += 1\n"
   ]
  },
  {
   "attachments": {},
   "cell_type": "markdown",
   "metadata": {},
   "source": [
    "Cropped Patch Generation and Augmentation with Patchify"
   ]
  },
  {
   "cell_type": "code",
   "execution_count": 2,
   "metadata": {},
   "outputs": [
    {
     "name": "stderr",
     "output_type": "stream",
     "text": [
      "100%|██████████| 11/11 [00:08<00:00,  1.32it/s]\n"
     ]
    }
   ],
   "source": [
    "from tqdm import tqdm\n",
    "import os\n",
    "import cv2\n",
    "from patchify import patchify\n",
    "import numpy as np\n",
    "#Open image using Image module\n",
    "\n",
    "def generate_augmentations(image):\n",
    "    augmented_images = []\n",
    "    augmented_images.append(image)\n",
    "\n",
    "    # Rotate Right\n",
    "    rotate_right = cv2.rotate(image, cv2.ROTATE_90_CLOCKWISE)\n",
    "    augmented_images.append(rotate_right)\n",
    "\n",
    "    # Rotate Left\n",
    "    rotate_left = cv2.rotate(image, cv2.ROTATE_90_COUNTERCLOCKWISE)\n",
    "    augmented_images.append(rotate_left)\n",
    "\n",
    "    # # Flip Vertical\n",
    "    flip_vertical = cv2.flip(image, 0)\n",
    "    augmented_images.append(flip_vertical)\n",
    "\n",
    "    # # Flip Horizontal\n",
    "    flip_horizontal = cv2.flip(image, 1)\n",
    "    augmented_images.append(flip_horizontal)\n",
    "\n",
    "    return augmented_images\n",
    "\n",
    "source = 'edited'\n",
    "destination = 'edited_cropped'\n",
    "image_count = 0\n",
    "\n",
    "for file in tqdm(os.listdir(source)):\n",
    "    if(file.endswith(\".jpg\")):\n",
    "        image = cv2.imread(f\"{source}/{file}\")\n",
    "        image = cv2.cvtColor(image, cv2.COLOR_BGR2RGB)\n",
    "\n",
    "        # Cropping 374 x 374 x 3 sized Images\n",
    "        images_patches = patchify(image, (374,374,3), step=374) \n",
    "        sent_to_val = 0\n",
    "\n",
    "        for i in range(images_patches.shape[0]):\n",
    "            for j in range(images_patches.shape[1]):\n",
    "                single_patch_image = images_patches[i,j,:,:]\n",
    "                image_to_save = cv2.cvtColor(single_patch_image[0,:,:,:], cv2.COLOR_BGR2RGB)\n",
    "                augmented_images = generate_augmentations(image_to_save)\n",
    "                for idx in range(len(augmented_images)):\n",
    "                    cv2.imwrite(destination + '/' + str(image_count) + \".jpg\", augmented_images[idx])\n",
    "                    image_count += 1\n"
   ]
  }
 ],
 "metadata": {
  "kernelspec": {
   "display_name": "Python 3.9.2 ('tf')",
   "language": "python",
   "name": "python3"
  },
  "language_info": {
   "codemirror_mode": {
    "name": "ipython",
    "version": 3
   },
   "file_extension": ".py",
   "mimetype": "text/x-python",
   "name": "python",
   "nbconvert_exporter": "python",
   "pygments_lexer": "ipython3",
   "version": "3.9.2"
  },
  "orig_nbformat": 4,
  "vscode": {
   "interpreter": {
    "hash": "d19082700da762482080f36b39ebc482a41c4a43ec4c4c978c643b543717b560"
   }
  }
 },
 "nbformat": 4,
 "nbformat_minor": 2
}
